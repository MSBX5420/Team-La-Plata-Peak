{
 "cells": [
  {
   "cell_type": "markdown",
   "metadata": {},
   "source": [
    "# Import Libraries"
   ]
  },
  {
   "cell_type": "code",
   "execution_count": 1,
   "metadata": {},
   "outputs": [],
   "source": [
    "import boto3, os\n",
    "import botocore\n",
    "import pandas as pd\n",
    "import re"
   ]
  },
  {
   "attachments": {},
   "cell_type": "markdown",
   "metadata": {},
   "source": [
    "# Read in credentials file\n",
    "This is a .txt file where I copy the access keys that are provided for me in the Account Details part of AWS classroom. This has not be included in our github repo in order to keep my keys private. The file is read in and the proper information is parsed out and used to connect to AWS Command Line Interface (CLI).\n",
    "\n",
    "\n",
    "![my_image](images/Screen Shot 2020-04-14 at 2.04.12 PM.png)"
   ]
  },
  {
   "cell_type": "markdown",
   "metadata": {},
   "source": [
    "Read in .txt file"
   ]
  },
  {
   "cell_type": "code",
   "execution_count": 2,
   "metadata": {},
   "outputs": [],
   "source": [
    "key_list = []\n",
    "\n",
    "with open('/Users/kaegan/Documents/CU Boulder/2Masters/3Spring Semester/3Unstruct Dist Data/aws_credentials/credentials.txt', 'r') as file:\n",
    "    for line in file:\n",
    "        key_list.append(line.strip(\"\\n\"))"
   ]
  },
  {
   "cell_type": "markdown",
   "metadata": {},
   "source": [
    "Parse relevant info"
   ]
  },
  {
   "cell_type": "code",
   "execution_count": 3,
   "metadata": {},
   "outputs": [],
   "source": [
    "access_key_id = re.search('.*=(.*)', key_list[1]).group(1)\n",
    "secret_access_key = re.search('.*=(.*)', key_list[2]).group(1)\n",
    "session_token = re.search('.*=(.*=)', key_list[3]).group(1)"
   ]
  },
  {
   "cell_type": "markdown",
   "metadata": {},
   "source": [
    "# Initialize boto3 client and resource with proper credentials"
   ]
  },
  {
   "cell_type": "code",
   "execution_count": 4,
   "metadata": {},
   "outputs": [],
   "source": [
    "s3 = boto3.client('s3',\n",
    "                aws_access_key_id=access_key_id,\n",
    "                aws_secret_access_key=secret_access_key,\n",
    "                aws_session_token=session_token,)\n",
    "s3_resource = boto3.resource('s3',\n",
    "                aws_access_key_id=access_key_id,\n",
    "                aws_secret_access_key=secret_access_key,\n",
    "                aws_session_token=session_token,)"
   ]
  },
  {
   "cell_type": "markdown",
   "metadata": {},
   "source": [
    "# Create our S3 Bucket\n",
    "This has been commented out because it only needed to be done once and will throw an error because all S3 buckets must have a unique name even accross users."
   ]
  },
  {
   "cell_type": "code",
   "execution_count": 5,
   "metadata": {},
   "outputs": [],
   "source": [
    "# def create_bucket(bucket):\n",
    "#     import logging\n",
    "\n",
    "#     try:\n",
    "#         s3.create_bucket(Bucket=bucket)\n",
    "#     except botocore.exceptions.ClientError as e:\n",
    "#         logging.error(e)\n",
    "#         return 'Bucket ' + bucket + ' could not be created.'\n",
    "#     return 'Created or already exists ' + bucket + ' bucket.'"
   ]
  },
  {
   "cell_type": "code",
   "execution_count": 6,
   "metadata": {},
   "outputs": [],
   "source": [
    "# create_bucket('la-plata-peak')"
   ]
  },
  {
   "cell_type": "markdown",
   "metadata": {},
   "source": [
    "Check that Bucket was Created"
   ]
  },
  {
   "cell_type": "code",
   "execution_count": 7,
   "metadata": {},
   "outputs": [
    {
     "data": {
      "text/plain": [
       "[{'Name': 'la-plata-peak',\n",
       "  'CreationDate': datetime.datetime(2020, 4, 14, 18, 37, 13, tzinfo=tzutc())}]"
      ]
     },
     "execution_count": 7,
     "metadata": {},
     "output_type": "execute_result"
    }
   ],
   "source": [
    "response = s3.list_buckets()\n",
    "response['Buckets']"
   ]
  },
  {
   "cell_type": "markdown",
   "metadata": {},
   "source": [
    "# List Bucket Contents (files)"
   ]
  },
  {
   "cell_type": "code",
   "execution_count": 8,
   "metadata": {},
   "outputs": [],
   "source": [
    "def list_bucket_contents(bucket, match='', size_mb=0):\n",
    "    bucket_resource = s3_resource.Bucket(bucket)\n",
    "    total_size_gb = 0\n",
    "    total_files = 0\n",
    "    match_size_gb = 0\n",
    "    match_files = 0\n",
    "    for key in bucket_resource.objects.all():\n",
    "        key_size_mb = key.size/1024/1024\n",
    "        total_size_gb += key_size_mb\n",
    "        total_files += 1\n",
    "        list_check = False\n",
    "        if not match:\n",
    "            list_check = True\n",
    "        elif match in key.key:\n",
    "            list_check = True\n",
    "        if list_check and not size_mb:\n",
    "            match_files += 1\n",
    "            match_size_gb += key_size_mb\n",
    "            print(f'{key.key} ({key_size_mb:3.0f}MB)')\n",
    "        elif list_check and key_size_mb <= size_mb:\n",
    "            match_files += 1\n",
    "            match_size_gb += key_size_mb\n",
    "            print(f'{key.key} ({key_size_mb:3.0f}MB)')\n",
    "\n",
    "    if match:\n",
    "        print(f'Matched file size is {match_size_gb/1024:3.1f}GB with {match_files} files')            \n",
    "    \n",
    "    print(f'Bucket {bucket} total size is {total_size_gb/1024:3.1f}GB with {total_files} files')"
   ]
  },
  {
   "cell_type": "code",
   "execution_count": 9,
   "metadata": {},
   "outputs": [
    {
     "name": "stdout",
     "output_type": "stream",
     "text": [
      "trip data/fhv_tripdata_2019-01.csv (1242MB)\n",
      "trip data/fhv_tripdata_2019-02.csv ( 93MB)\n",
      "trip data/fhv_tripdata_2019-03.csv ( 72MB)\n",
      "trip data/fhv_tripdata_2019-04.csv (104MB)\n",
      "trip data/fhv_tripdata_2019-05.csv (111MB)\n",
      "trip data/fhv_tripdata_2019-06.csv (107MB)\n",
      "trip data/fhv_tripdata_2019-07.csv (103MB)\n",
      "trip data/fhv_tripdata_2019-08.csv ( 99MB)\n",
      "trip data/fhv_tripdata_2019-09.csv ( 56MB)\n",
      "trip data/fhv_tripdata_2019-10.csv ( 98MB)\n",
      "trip data/fhv_tripdata_2019-11.csv ( 88MB)\n",
      "trip data/fhv_tripdata_2019-12.csv ( 95MB)\n",
      "trip data/fhvhv_tripdata_2019-02.csv (1221MB)\n",
      "trip data/fhvhv_tripdata_2019-03.csv (1444MB)\n",
      "trip data/fhvhv_tripdata_2019-04.csv (1315MB)\n",
      "trip data/fhvhv_tripdata_2019-05.csv (1351MB)\n",
      "trip data/fhvhv_tripdata_2019-06.csv (1270MB)\n",
      "trip data/fhvhv_tripdata_2019-07.csv (1228MB)\n",
      "trip data/fhvhv_tripdata_2019-08.csv (1217MB)\n",
      "trip data/fhvhv_tripdata_2019-09.csv (1214MB)\n",
      "trip data/fhvhv_tripdata_2019-10.csv (1280MB)\n",
      "trip data/fhvhv_tripdata_2019-11.csv (1308MB)\n",
      "trip data/fhvhv_tripdata_2019-12.csv (1344MB)\n",
      "trip data/green_tripdata_2019-01.csv ( 55MB)\n",
      "trip data/green_tripdata_2019-02.csv ( 50MB)\n",
      "trip data/green_tripdata_2019-03.csv ( 53MB)\n",
      "trip data/green_tripdata_2019-04.csv ( 45MB)\n",
      "trip data/green_tripdata_2019-05.csv ( 44MB)\n",
      "trip data/green_tripdata_2019-06.csv ( 41MB)\n",
      "trip data/green_tripdata_2019-07.csv ( 41MB)\n",
      "trip data/green_tripdata_2019-08.csv ( 39MB)\n",
      "trip data/green_tripdata_2019-09.csv ( 39MB)\n",
      "trip data/green_tripdata_2019-10.csv ( 42MB)\n",
      "trip data/green_tripdata_2019-11.csv ( 39MB)\n",
      "trip data/green_tripdata_2019-12.csv ( 39MB)\n",
      "trip data/yellow_tripdata_2019-01.csv (655MB)\n",
      "trip data/yellow_tripdata_2019-02.csv (620MB)\n",
      "trip data/yellow_tripdata_2019-03.csv (693MB)\n",
      "trip data/yellow_tripdata_2019-04.csv (657MB)\n",
      "trip data/yellow_tripdata_2019-05.csv (669MB)\n",
      "trip data/yellow_tripdata_2019-06.csv (614MB)\n",
      "trip data/yellow_tripdata_2019-07.csv (557MB)\n",
      "trip data/yellow_tripdata_2019-08.csv (536MB)\n",
      "trip data/yellow_tripdata_2019-09.csv (581MB)\n",
      "trip data/yellow_tripdata_2019-10.csv (638MB)\n",
      "trip data/yellow_tripdata_2019-11.csv (608MB)\n",
      "trip data/yellow_tripdata_2019-12.csv (610MB)\n",
      "Matched file size is 23.9GB with 47 files\n",
      "Bucket nyc-tlc total size is 297.1GB with 298 files\n"
     ]
    }
   ],
   "source": [
    "list_bucket_contents(bucket='nyc-tlc', match='2019')"
   ]
  },
  {
   "cell_type": "code",
   "execution_count": null,
   "metadata": {},
   "outputs": [],
   "source": []
  }
 ],
 "metadata": {
  "kernelspec": {
   "display_name": "Python 3",
   "language": "python",
   "name": "python3"
  },
  "language_info": {
   "codemirror_mode": {
    "name": "ipython",
    "version": 3
   },
   "file_extension": ".py",
   "mimetype": "text/x-python",
   "name": "python",
   "nbconvert_exporter": "python",
   "pygments_lexer": "ipython3",
   "version": "3.7.3"
  }
 },
 "nbformat": 4,
 "nbformat_minor": 2
}
