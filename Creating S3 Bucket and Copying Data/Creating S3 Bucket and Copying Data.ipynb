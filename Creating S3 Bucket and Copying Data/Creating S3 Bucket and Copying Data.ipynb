{
 "cells": [
  {
   "cell_type": "markdown",
   "metadata": {},
   "source": [
    "# Import Libraries"
   ]
  },
  {
   "cell_type": "code",
   "execution_count": 1,
   "metadata": {},
   "outputs": [],
   "source": [
    "import boto3, os\n",
    "import botocore\n",
    "import pandas as pd\n",
    "import re"
   ]
  },
  {
   "cell_type": "markdown",
   "metadata": {},
   "source": [
    "# Read in credentials file\n",
    "This is a .txt file where I copy the access keys that are provided for me in the Account Details part of AWS classroom. This has not be included in our github repo in order to keep my keys private. The file is read in and the proper information is parsed out and used to connect to AWS Command Line Interface (CLI).\n",
    "\n",
    "\n",
    "![my_image](images/Screen Shot 2020-04-14 at 2.04.12 PM.png)"
   ]
  },
  {
   "cell_type": "markdown",
   "metadata": {},
   "source": [
    "Read in .txt file"
   ]
  },
  {
   "cell_type": "code",
   "execution_count": 2,
   "metadata": {},
   "outputs": [],
   "source": [
    "key_list = []\n",
    "\n",
    "with open('/Users/kaegan/Documents/CU Boulder/2Masters/3Spring Semester/3Unstruct Dist Data/aws_credentials/credentials.txt', 'r') as file:\n",
    "    for line in file:\n",
    "        key_list.append(line.strip(\"\\n\"))"
   ]
  },
  {
   "cell_type": "markdown",
   "metadata": {},
   "source": [
    "Parse relevant info"
   ]
  },
  {
   "cell_type": "code",
   "execution_count": 3,
   "metadata": {},
   "outputs": [],
   "source": [
    "access_key_id = re.search('.*=(.*)', key_list[1]).group(1)\n",
    "secret_access_key = re.search('.*=(.*)', key_list[2]).group(1)\n",
    "session_token = re.search('.*=(.*=)', key_list[3]).group(1)"
   ]
  },
  {
   "cell_type": "markdown",
   "metadata": {},
   "source": [
    "# Initialize boto3 client and resource with proper credentials"
   ]
  },
  {
   "cell_type": "code",
   "execution_count": 4,
   "metadata": {},
   "outputs": [],
   "source": [
    "s3 = boto3.client('s3',\n",
    "                aws_access_key_id=access_key_id,\n",
    "                aws_secret_access_key=secret_access_key,\n",
    "                aws_session_token=session_token,)\n",
    "s3_resource = boto3.resource('s3',\n",
    "                aws_access_key_id=access_key_id,\n",
    "                aws_secret_access_key=secret_access_key,\n",
    "                aws_session_token=session_token,)"
   ]
  },
  {
   "cell_type": "markdown",
   "metadata": {},
   "source": [
    "# Create our S3 Bucket\n",
    "This has been commented out because it only needed to be done once and will throw an error because all S3 buckets must have a unique name even accross users."
   ]
  },
  {
   "cell_type": "code",
   "execution_count": 5,
   "metadata": {},
   "outputs": [],
   "source": [
    "# def create_bucket(bucket):\n",
    "#     import logging\n",
    "\n",
    "#     try:\n",
    "#         s3.create_bucket(Bucket=bucket)\n",
    "#     except botocore.exceptions.ClientError as e:\n",
    "#         logging.error(e)\n",
    "#         return 'Bucket ' + bucket + ' could not be created.'\n",
    "#     return 'Created or already exists ' + bucket + ' bucket.'"
   ]
  },
  {
   "cell_type": "code",
   "execution_count": 6,
   "metadata": {},
   "outputs": [],
   "source": [
    "# create_bucket('la-plata-peak')"
   ]
  },
  {
   "cell_type": "markdown",
   "metadata": {},
   "source": [
    "Check that Bucket was Created"
   ]
  },
  {
   "cell_type": "code",
   "execution_count": 7,
   "metadata": {},
   "outputs": [
    {
     "data": {
      "text/plain": [
       "[{'Name': 'la-plata-peak',\n",
       "  'CreationDate': datetime.datetime(2020, 4, 14, 18, 37, 13, tzinfo=tzutc())}]"
      ]
     },
     "execution_count": 7,
     "metadata": {},
     "output_type": "execute_result"
    }
   ],
   "source": [
    "response = s3.list_buckets()\n",
    "response['Buckets']"
   ]
  },
  {
   "cell_type": "markdown",
   "metadata": {},
   "source": [
    "# List Bucket Contents (files) in Registry of Open Data on AWS\n"
   ]
  },
  {
   "cell_type": "code",
   "execution_count": 8,
   "metadata": {},
   "outputs": [],
   "source": [
    "def list_bucket_contents(bucket, match='', size_mb=0):\n",
    "    bucket_resource = s3_resource.Bucket(bucket)\n",
    "    total_size_gb = 0\n",
    "    total_files = 0\n",
    "    match_size_gb = 0\n",
    "    match_files = 0\n",
    "    for key in bucket_resource.objects.all():\n",
    "        key_size_mb = key.size/1024/1024\n",
    "        total_size_gb += key_size_mb\n",
    "        total_files += 1\n",
    "        list_check = False\n",
    "        if not match:\n",
    "            list_check = True\n",
    "        elif match in key.key:\n",
    "            list_check = True\n",
    "        if list_check and not size_mb:\n",
    "            match_files += 1\n",
    "            match_size_gb += key_size_mb\n",
    "            print(f'{key.key} ({key_size_mb:3.0f}MB)')\n",
    "        elif list_check and key_size_mb <= size_mb:\n",
    "            match_files += 1\n",
    "            match_size_gb += key_size_mb\n",
    "            print(f'{key.key} ({key_size_mb:3.0f}MB)')\n",
    "\n",
    "    if match:\n",
    "        print(f'Matched file size is {match_size_gb/1024:3.1f}GB with {match_files} files')            \n",
    "    \n",
    "    print(f'Bucket {bucket} total size is {total_size_gb/1024:3.1f}GB with {total_files} files')"
   ]
  },
  {
   "cell_type": "code",
   "execution_count": 9,
   "metadata": {
    "scrolled": false
   },
   "outputs": [
    {
     "name": "stdout",
     "output_type": "stream",
     "text": [
      "trip data/fhv_tripdata_2019-01.csv (1242MB)\n",
      "trip data/fhv_tripdata_2019-02.csv ( 93MB)\n",
      "trip data/fhv_tripdata_2019-03.csv ( 72MB)\n",
      "trip data/fhv_tripdata_2019-04.csv (104MB)\n",
      "trip data/fhv_tripdata_2019-05.csv (111MB)\n",
      "trip data/fhv_tripdata_2019-06.csv (107MB)\n",
      "trip data/fhv_tripdata_2019-07.csv (103MB)\n",
      "trip data/fhv_tripdata_2019-08.csv ( 99MB)\n",
      "trip data/fhv_tripdata_2019-09.csv ( 56MB)\n",
      "trip data/fhv_tripdata_2019-10.csv ( 98MB)\n",
      "trip data/fhv_tripdata_2019-11.csv ( 88MB)\n",
      "trip data/fhv_tripdata_2019-12.csv ( 95MB)\n",
      "trip data/fhvhv_tripdata_2019-02.csv (1221MB)\n",
      "trip data/fhvhv_tripdata_2019-03.csv (1444MB)\n",
      "trip data/fhvhv_tripdata_2019-04.csv (1315MB)\n",
      "trip data/fhvhv_tripdata_2019-05.csv (1351MB)\n",
      "trip data/fhvhv_tripdata_2019-06.csv (1270MB)\n",
      "trip data/fhvhv_tripdata_2019-07.csv (1228MB)\n",
      "trip data/fhvhv_tripdata_2019-08.csv (1217MB)\n",
      "trip data/fhvhv_tripdata_2019-09.csv (1214MB)\n",
      "trip data/fhvhv_tripdata_2019-10.csv (1280MB)\n",
      "trip data/fhvhv_tripdata_2019-11.csv (1308MB)\n",
      "trip data/fhvhv_tripdata_2019-12.csv (1344MB)\n",
      "trip data/green_tripdata_2019-01.csv ( 55MB)\n",
      "trip data/green_tripdata_2019-02.csv ( 50MB)\n",
      "trip data/green_tripdata_2019-03.csv ( 53MB)\n",
      "trip data/green_tripdata_2019-04.csv ( 45MB)\n",
      "trip data/green_tripdata_2019-05.csv ( 44MB)\n",
      "trip data/green_tripdata_2019-06.csv ( 41MB)\n",
      "trip data/green_tripdata_2019-07.csv ( 41MB)\n",
      "trip data/green_tripdata_2019-08.csv ( 39MB)\n",
      "trip data/green_tripdata_2019-09.csv ( 39MB)\n",
      "trip data/green_tripdata_2019-10.csv ( 42MB)\n",
      "trip data/green_tripdata_2019-11.csv ( 39MB)\n",
      "trip data/green_tripdata_2019-12.csv ( 39MB)\n",
      "trip data/yellow_tripdata_2019-01.csv (655MB)\n",
      "trip data/yellow_tripdata_2019-02.csv (620MB)\n",
      "trip data/yellow_tripdata_2019-03.csv (693MB)\n",
      "trip data/yellow_tripdata_2019-04.csv (657MB)\n",
      "trip data/yellow_tripdata_2019-05.csv (669MB)\n",
      "trip data/yellow_tripdata_2019-06.csv (614MB)\n",
      "trip data/yellow_tripdata_2019-07.csv (557MB)\n",
      "trip data/yellow_tripdata_2019-08.csv (536MB)\n",
      "trip data/yellow_tripdata_2019-09.csv (581MB)\n",
      "trip data/yellow_tripdata_2019-10.csv (638MB)\n",
      "trip data/yellow_tripdata_2019-11.csv (608MB)\n",
      "trip data/yellow_tripdata_2019-12.csv (610MB)\n",
      "Matched file size is 23.9GB with 47 files\n",
      "Bucket nyc-tlc total size is 297.1GB with 298 files\n"
     ]
    }
   ],
   "source": [
    "list_bucket_contents(bucket='nyc-tlc', match='2019')"
   ]
  },
  {
   "cell_type": "markdown",
   "metadata": {},
   "source": [
    "![my_image2](images/Screen Shot 2020-04-21 at 1.13.37 PM.png)"
   ]
  },
  {
   "cell_type": "markdown",
   "metadata": {},
   "source": [
    "Total cost of storing all of the 2019 data:"
   ]
  },
  {
   "cell_type": "code",
   "execution_count": 10,
   "metadata": {},
   "outputs": [
    {
     "data": {
      "text/plain": [
       "0.5497"
      ]
     },
     "execution_count": 10,
     "metadata": {},
     "output_type": "execute_result"
    }
   ],
   "source": [
    "23.9 * 0.023 # $0.54 "
   ]
  },
  {
   "cell_type": "markdown",
   "metadata": {},
   "source": [
    "# Create function for saving a list of all the bucket names"
   ]
  },
  {
   "cell_type": "code",
   "execution_count": 11,
   "metadata": {},
   "outputs": [],
   "source": [
    "def match_bucket_list(bucket, match='', size_mb=0):\n",
    "    key_list = []\n",
    "    bucket_resource = s3_resource.Bucket(bucket)\n",
    "    \n",
    "    for key in bucket_resource.objects.all():\n",
    "        key_size_mb = key.size/1024/1024\n",
    "        list_check = False\n",
    "        if not match:\n",
    "            list_check = True\n",
    "        elif match in key.key:\n",
    "            list_check = True\n",
    "        if list_check and not size_mb:\n",
    "            key_list.append(key.key)\n",
    "        elif list_check and key_size_mb <= size_mb:\n",
    "            key_list.append(key.key)\n",
    "    \n",
    "    return key_list"
   ]
  },
  {
   "cell_type": "code",
   "execution_count": 12,
   "metadata": {
    "scrolled": true
   },
   "outputs": [
    {
     "data": {
      "text/plain": [
       "['trip data/fhv_tripdata_2019-01.csv',\n",
       " 'trip data/fhv_tripdata_2019-02.csv',\n",
       " 'trip data/fhv_tripdata_2019-03.csv',\n",
       " 'trip data/fhv_tripdata_2019-04.csv',\n",
       " 'trip data/fhv_tripdata_2019-05.csv',\n",
       " 'trip data/fhv_tripdata_2019-06.csv',\n",
       " 'trip data/fhv_tripdata_2019-07.csv',\n",
       " 'trip data/fhv_tripdata_2019-08.csv',\n",
       " 'trip data/fhv_tripdata_2019-09.csv',\n",
       " 'trip data/fhv_tripdata_2019-10.csv',\n",
       " 'trip data/fhv_tripdata_2019-11.csv',\n",
       " 'trip data/fhv_tripdata_2019-12.csv',\n",
       " 'trip data/fhvhv_tripdata_2019-02.csv',\n",
       " 'trip data/fhvhv_tripdata_2019-03.csv',\n",
       " 'trip data/fhvhv_tripdata_2019-04.csv',\n",
       " 'trip data/fhvhv_tripdata_2019-05.csv',\n",
       " 'trip data/fhvhv_tripdata_2019-06.csv',\n",
       " 'trip data/fhvhv_tripdata_2019-07.csv',\n",
       " 'trip data/fhvhv_tripdata_2019-08.csv',\n",
       " 'trip data/fhvhv_tripdata_2019-09.csv',\n",
       " 'trip data/fhvhv_tripdata_2019-10.csv',\n",
       " 'trip data/fhvhv_tripdata_2019-11.csv',\n",
       " 'trip data/fhvhv_tripdata_2019-12.csv',\n",
       " 'trip data/green_tripdata_2019-01.csv',\n",
       " 'trip data/green_tripdata_2019-02.csv',\n",
       " 'trip data/green_tripdata_2019-03.csv',\n",
       " 'trip data/green_tripdata_2019-04.csv',\n",
       " 'trip data/green_tripdata_2019-05.csv',\n",
       " 'trip data/green_tripdata_2019-06.csv',\n",
       " 'trip data/green_tripdata_2019-07.csv',\n",
       " 'trip data/green_tripdata_2019-08.csv',\n",
       " 'trip data/green_tripdata_2019-09.csv',\n",
       " 'trip data/green_tripdata_2019-10.csv',\n",
       " 'trip data/green_tripdata_2019-11.csv',\n",
       " 'trip data/green_tripdata_2019-12.csv',\n",
       " 'trip data/yellow_tripdata_2019-01.csv',\n",
       " 'trip data/yellow_tripdata_2019-02.csv',\n",
       " 'trip data/yellow_tripdata_2019-03.csv',\n",
       " 'trip data/yellow_tripdata_2019-04.csv',\n",
       " 'trip data/yellow_tripdata_2019-05.csv',\n",
       " 'trip data/yellow_tripdata_2019-06.csv',\n",
       " 'trip data/yellow_tripdata_2019-07.csv',\n",
       " 'trip data/yellow_tripdata_2019-08.csv',\n",
       " 'trip data/yellow_tripdata_2019-09.csv',\n",
       " 'trip data/yellow_tripdata_2019-10.csv',\n",
       " 'trip data/yellow_tripdata_2019-11.csv',\n",
       " 'trip data/yellow_tripdata_2019-12.csv']"
      ]
     },
     "execution_count": 12,
     "metadata": {},
     "output_type": "execute_result"
    }
   ],
   "source": [
    "key_list = match_bucket_list(bucket='nyc-tlc', match='2019')"
   ]
  },
  {
   "cell_type": "markdown",
   "metadata": {},
   "source": [
    "# Seperate list into yellow and green taxi data"
   ]
  },
  {
   "cell_type": "code",
   "execution_count": 20,
   "metadata": {},
   "outputs": [],
   "source": [
    "green_list = []\n",
    "yellow_list = []\n",
    "\n",
    "for i in key_list:\n",
    "    if 'yellow' in i:\n",
    "        yellow_list.append(i)\n",
    "    if 'green' in i:\n",
    "        green_list.append(i)"
   ]
  },
  {
   "cell_type": "code",
   "execution_count": 23,
   "metadata": {},
   "outputs": [
    {
     "data": {
      "text/plain": [
       "['trip data/yellow_tripdata_2019-01.csv',\n",
       " 'trip data/yellow_tripdata_2019-02.csv',\n",
       " 'trip data/yellow_tripdata_2019-03.csv',\n",
       " 'trip data/yellow_tripdata_2019-04.csv',\n",
       " 'trip data/yellow_tripdata_2019-05.csv',\n",
       " 'trip data/yellow_tripdata_2019-06.csv',\n",
       " 'trip data/yellow_tripdata_2019-07.csv',\n",
       " 'trip data/yellow_tripdata_2019-08.csv',\n",
       " 'trip data/yellow_tripdata_2019-09.csv',\n",
       " 'trip data/yellow_tripdata_2019-10.csv',\n",
       " 'trip data/yellow_tripdata_2019-11.csv',\n",
       " 'trip data/yellow_tripdata_2019-12.csv']"
      ]
     },
     "execution_count": 23,
     "metadata": {},
     "output_type": "execute_result"
    }
   ],
   "source": [
    "yellow_list"
   ]
  },
  {
   "cell_type": "code",
   "execution_count": 22,
   "metadata": {},
   "outputs": [
    {
     "data": {
      "text/plain": [
       "['trip data/green_tripdata_2019-01.csv',\n",
       " 'trip data/green_tripdata_2019-02.csv',\n",
       " 'trip data/green_tripdata_2019-03.csv',\n",
       " 'trip data/green_tripdata_2019-04.csv',\n",
       " 'trip data/green_tripdata_2019-05.csv',\n",
       " 'trip data/green_tripdata_2019-06.csv',\n",
       " 'trip data/green_tripdata_2019-07.csv',\n",
       " 'trip data/green_tripdata_2019-08.csv',\n",
       " 'trip data/green_tripdata_2019-09.csv',\n",
       " 'trip data/green_tripdata_2019-10.csv',\n",
       " 'trip data/green_tripdata_2019-11.csv',\n",
       " 'trip data/green_tripdata_2019-12.csv']"
      ]
     },
     "execution_count": 22,
     "metadata": {},
     "output_type": "execute_result"
    }
   ],
   "source": [
    "green_list"
   ]
  },
  {
   "cell_type": "code",
   "execution_count": 30,
   "metadata": {},
   "outputs": [],
   "source": [
    "yellow_data = yellow_list[-4:]\n",
    "green_data = green_list[-4:]"
   ]
  },
  {
   "cell_type": "code",
   "execution_count": 32,
   "metadata": {},
   "outputs": [
    {
     "data": {
      "text/plain": [
       "'yellow_tripdata_2019-09.csv'"
      ]
     },
     "execution_count": 32,
     "metadata": {},
     "output_type": "execute_result"
    }
   ],
   "source": [
    "yellow_data[0].replace('trip data/', '')"
   ]
  },
  {
   "cell_type": "markdown",
   "metadata": {},
   "source": [
    "# Create functions for copying buckets"
   ]
  },
  {
   "cell_type": "code",
   "execution_count": 13,
   "metadata": {},
   "outputs": [],
   "source": [
    "def key_exists(bucket, key):\n",
    "    try:\n",
    "        s3_resource.Object(bucket, key).load()\n",
    "    except botocore.exceptions.ClientError as e:\n",
    "        if e.response['Error']['Code'] == \"404\":\n",
    "            # The key does not exist.\n",
    "            return(False)\n",
    "        else:\n",
    "            # Something else has gone wrong.\n",
    "            raise\n",
    "    else:\n",
    "        # The key does exist.\n",
    "        return(True)\n",
    "\n",
    "def copy_among_buckets(from_bucket, from_key, to_bucket, to_key):\n",
    "    if not key_exists(to_bucket, to_key):\n",
    "        s3_resource.meta.client.copy({'Bucket': from_bucket, 'Key': from_key}, \n",
    "                                        to_bucket, to_key)        \n",
    "        print(f'File {to_key} saved to S3 bucket {to_bucket}')\n",
    "    else:\n",
    "        print(f'File {to_key} already exists in S3 bucket {to_bucket}') "
   ]
  },
  {
   "cell_type": "code",
   "execution_count": 33,
   "metadata": {},
   "outputs": [
    {
     "name": "stdout",
     "output_type": "stream",
     "text": [
      "File yellow2019/yellow_tripdata_2019-09.csv saved to S3 bucket la-plata-peak\n",
      "File yellow2019/yellow_tripdata_2019-10.csv saved to S3 bucket la-plata-peak\n",
      "File yellow2019/yellow_tripdata_2019-11.csv saved to S3 bucket la-plata-peak\n",
      "File yellow2019/yellow_tripdata_2019-12.csv saved to S3 bucket la-plata-peak\n"
     ]
    }
   ],
   "source": [
    "for i in yellow_data:\n",
    "    to_bucket_name = i.replace('trip data/', '')\n",
    "    copy_among_buckets(from_bucket='nyc-tlc', from_key=i,\n",
    "                       to_bucket='la-plata-peak', to_key=\"yellow2019/\" + to_bucket_name)"
   ]
  },
  {
   "cell_type": "code",
   "execution_count": 35,
   "metadata": {},
   "outputs": [
    {
     "name": "stdout",
     "output_type": "stream",
     "text": [
      "File green2019/green_tripdata_2019-09.csv saved to S3 bucket la-plata-peak\n",
      "File green2019/green_tripdata_2019-10.csv saved to S3 bucket la-plata-peak\n",
      "File green2019/green_tripdata_2019-11.csv saved to S3 bucket la-plata-peak\n",
      "File green2019/green_tripdata_2019-12.csv saved to S3 bucket la-plata-peak\n"
     ]
    }
   ],
   "source": [
    "for i in green_data:\n",
    "    to_bucket_name = i.replace('trip data/', '')\n",
    "    copy_among_buckets(from_bucket='nyc-tlc', from_key=i,\n",
    "                       to_bucket='la-plata-peak', to_key=\"green2019/\" + to_bucket_name)"
   ]
  }
 ],
 "metadata": {
  "kernelspec": {
   "display_name": "Python 3",
   "language": "python",
   "name": "python3"
  },
  "language_info": {
   "codemirror_mode": {
    "name": "ipython",
    "version": 3
   },
   "file_extension": ".py",
   "mimetype": "text/x-python",
   "name": "python",
   "nbconvert_exporter": "python",
   "pygments_lexer": "ipython3",
   "version": "3.7.3"
  }
 },
 "nbformat": 4,
 "nbformat_minor": 2
}
