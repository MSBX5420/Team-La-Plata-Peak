{
 "cells": [
  {
   "cell_type": "markdown",
   "metadata": {},
   "source": [
    "# Import Libraries"
   ]
  },
  {
   "cell_type": "code",
   "execution_count": 4,
   "metadata": {},
   "outputs": [],
   "source": [
    "import boto3, os\n",
    "import botocore\n",
    "import pandas as pd\n",
    "import re"
   ]
  },
  {
   "cell_type": "markdown",
   "metadata": {},
   "source": [
    "# Read in credentials file\n",
    "This is a .txt file where I copy the access keys that are provided for me in the Account Details part of AWS classroom. This has not be included in our github repo in order to keep my keys private. The file is read in and the proper information is parsed out and used to connect to AWS Command Line Interface (CLI).\n",
    "\n",
    "\n",
    "![my_image](images/Screen Shot 2020-04-14 at 2.04.12 PM.png)"
   ]
  },
  {
   "cell_type": "code",
   "execution_count": 5,
   "metadata": {},
   "outputs": [],
   "source": [
    "key_list = []\n",
    "\n",
    "with open('access_key', 'r') as file:\n",
    "    for line in file:\n",
    "        key_list.append(line.strip(\"\\n\"))"
   ]
  },
  {
   "cell_type": "markdown",
   "metadata": {},
   "source": [
    "Parse relevant info"
   ]
  },
  {
   "cell_type": "code",
   "execution_count": 6,
   "metadata": {},
   "outputs": [],
   "source": [
    "access_key_id = re.search('.*=(.*)', key_list[1]).group(1)\n",
    "secret_access_key = re.search('.*=(.*)', key_list[2]).group(1)\n",
    "session_token = re.search('.*=(.*=)', key_list[3]).group(1)"
   ]
  },
  {
   "cell_type": "markdown",
   "metadata": {},
   "source": [
    "# Initialize boto3 client and resource with proper credentials"
   ]
  },
  {
   "cell_type": "code",
   "execution_count": 7,
   "metadata": {},
   "outputs": [],
   "source": [
    "s3 = boto3.client('s3',\n",
    "                aws_access_key_id=access_key_id,\n",
    "                aws_secret_access_key=secret_access_key,\n",
    "                aws_session_token=session_token,)\n",
    "s3_resource = boto3.resource('s3',\n",
    "                aws_access_key_id=access_key_id,\n",
    "                aws_secret_access_key=secret_access_key,\n",
    "                aws_session_token=session_token,)"
   ]
  },
  {
   "cell_type": "markdown",
   "metadata": {},
   "source": [
    "# Create our S3 Bucket\n",
    "This has been commented out because it only needed to be done once and will throw an error because all S3 buckets must have a unique name even accross users."
   ]
  },
  {
   "cell_type": "code",
   "execution_count": 8,
   "metadata": {},
   "outputs": [],
   "source": [
    "def create_bucket(bucket):\n",
    "    import logging\n",
    "\n",
    "    try:\n",
    "        s3.create_bucket(Bucket=bucket)\n",
    "    except botocore.exceptions.ClientError as e:\n",
    "        logging.error(e)\n",
    "        return 'Bucket ' + bucket + ' could not be created.'\n",
    "    return 'Created or already exists ' + bucket + ' bucket.'"
   ]
  },
  {
   "cell_type": "code",
   "execution_count": 9,
   "metadata": {},
   "outputs": [
    {
     "data": {
      "text/plain": [
       "'Created or already exists taxinyc bucket.'"
      ]
     },
     "execution_count": 9,
     "metadata": {},
     "output_type": "execute_result"
    }
   ],
   "source": [
    "create_bucket('taxinyc')"
   ]
  },
  {
   "cell_type": "markdown",
   "metadata": {},
   "source": [
    "Check that Bucket was Created"
   ]
  },
  {
   "cell_type": "code",
   "execution_count": 10,
   "metadata": {},
   "outputs": [
    {
     "data": {
      "text/plain": [
       "[{'Name': 'taxinyc',\n",
       "  'CreationDate': datetime.datetime(2020, 4, 26, 22, 46, 59, tzinfo=tzutc())},\n",
       " {'Name': 'unstructured',\n",
       "  'CreationDate': datetime.datetime(2020, 4, 22, 15, 40, 28, tzinfo=tzutc())}]"
      ]
     },
     "execution_count": 10,
     "metadata": {},
     "output_type": "execute_result"
    }
   ],
   "source": [
    "response = s3.list_buckets()\n",
    "response['Buckets']"
   ]
  },
  {
   "cell_type": "markdown",
   "metadata": {},
   "source": [
    "# List Bucket Contents (files) in Registry of Open Data on AWS\n"
   ]
  },
  {
   "cell_type": "code",
   "execution_count": 11,
   "metadata": {},
   "outputs": [],
   "source": [
    "def list_bucket_contents(bucket, match='', size_mb=0):\n",
    "    bucket_resource = s3_resource.Bucket(bucket)\n",
    "    total_size_gb = 0\n",
    "    total_files = 0\n",
    "    match_size_gb = 0\n",
    "    match_files = 0\n",
    "    for key in bucket_resource.objects.all():\n",
    "        key_size_mb = key.size/1024/1024\n",
    "        total_size_gb += key_size_mb\n",
    "        total_files += 1\n",
    "        list_check = False\n",
    "        if not match:\n",
    "            list_check = True\n",
    "        elif match in key.key:\n",
    "            list_check = True\n",
    "        if list_check and not size_mb:\n",
    "            match_files += 1\n",
    "            match_size_gb += key_size_mb\n",
    "            print(f'{key.key} ({key_size_mb:3.0f}MB)')\n",
    "        elif list_check and key_size_mb <= size_mb:\n",
    "            match_files += 1\n",
    "            match_size_gb += key_size_mb\n",
    "            print(f'{key.key} ({key_size_mb:3.0f}MB)')\n",
    "\n",
    "    if match:\n",
    "        print(f'Matched file size is {match_size_gb/1024:3.1f}GB with {match_files} files')            \n",
    "    \n",
    "    print(f'Bucket {bucket} total size is {total_size_gb/1024:3.1f}GB with {total_files} files')"
   ]
  },
  {
   "cell_type": "code",
   "execution_count": 12,
   "metadata": {
    "scrolled": false
   },
   "outputs": [
    {
     "name": "stdout",
     "output_type": "stream",
     "text": [
      "trip data/fhv_tripdata_2019-01.csv (1242MB)\n",
      "trip data/fhv_tripdata_2019-02.csv ( 93MB)\n",
      "trip data/fhv_tripdata_2019-03.csv ( 72MB)\n",
      "trip data/fhv_tripdata_2019-04.csv (104MB)\n",
      "trip data/fhv_tripdata_2019-05.csv (111MB)\n",
      "trip data/fhv_tripdata_2019-06.csv (107MB)\n",
      "trip data/fhv_tripdata_2019-07.csv (103MB)\n",
      "trip data/fhv_tripdata_2019-08.csv ( 99MB)\n",
      "trip data/fhv_tripdata_2019-09.csv ( 56MB)\n",
      "trip data/fhv_tripdata_2019-10.csv ( 98MB)\n",
      "trip data/fhv_tripdata_2019-11.csv ( 88MB)\n",
      "trip data/fhv_tripdata_2019-12.csv ( 95MB)\n",
      "trip data/fhvhv_tripdata_2019-02.csv (1221MB)\n",
      "trip data/fhvhv_tripdata_2019-03.csv (1444MB)\n",
      "trip data/fhvhv_tripdata_2019-04.csv (1315MB)\n",
      "trip data/fhvhv_tripdata_2019-05.csv (1351MB)\n",
      "trip data/fhvhv_tripdata_2019-06.csv (1270MB)\n",
      "trip data/fhvhv_tripdata_2019-07.csv (1228MB)\n",
      "trip data/fhvhv_tripdata_2019-08.csv (1217MB)\n",
      "trip data/fhvhv_tripdata_2019-09.csv (1214MB)\n",
      "trip data/fhvhv_tripdata_2019-10.csv (1280MB)\n",
      "trip data/fhvhv_tripdata_2019-11.csv (1308MB)\n",
      "trip data/fhvhv_tripdata_2019-12.csv (1344MB)\n",
      "trip data/green_tripdata_2019-01.csv ( 55MB)\n",
      "trip data/green_tripdata_2019-02.csv ( 50MB)\n",
      "trip data/green_tripdata_2019-03.csv ( 53MB)\n",
      "trip data/green_tripdata_2019-04.csv ( 45MB)\n",
      "trip data/green_tripdata_2019-05.csv ( 44MB)\n",
      "trip data/green_tripdata_2019-06.csv ( 41MB)\n",
      "trip data/green_tripdata_2019-07.csv ( 41MB)\n",
      "trip data/green_tripdata_2019-08.csv ( 39MB)\n",
      "trip data/green_tripdata_2019-09.csv ( 39MB)\n",
      "trip data/green_tripdata_2019-10.csv ( 42MB)\n",
      "trip data/green_tripdata_2019-11.csv ( 39MB)\n",
      "trip data/green_tripdata_2019-12.csv ( 39MB)\n",
      "trip data/yellow_tripdata_2019-01.csv (655MB)\n",
      "trip data/yellow_tripdata_2019-02.csv (620MB)\n",
      "trip data/yellow_tripdata_2019-03.csv (693MB)\n",
      "trip data/yellow_tripdata_2019-04.csv (657MB)\n",
      "trip data/yellow_tripdata_2019-05.csv (669MB)\n",
      "trip data/yellow_tripdata_2019-06.csv (614MB)\n",
      "trip data/yellow_tripdata_2019-07.csv (557MB)\n",
      "trip data/yellow_tripdata_2019-08.csv (536MB)\n",
      "trip data/yellow_tripdata_2019-09.csv (581MB)\n",
      "trip data/yellow_tripdata_2019-10.csv (638MB)\n",
      "trip data/yellow_tripdata_2019-11.csv (608MB)\n",
      "trip data/yellow_tripdata_2019-12.csv (610MB)\n",
      "Matched file size is 23.9GB with 47 files\n",
      "Bucket nyc-tlc total size is 297.1GB with 298 files\n"
     ]
    }
   ],
   "source": [
    "list_bucket_contents(bucket='nyc-tlc', match='2019')"
   ]
  },
  {
   "cell_type": "markdown",
   "metadata": {},
   "source": [
    "![my_image2](images/Screen Shot 2020-04-21 at 1.13.37 PM.png)"
   ]
  },
  {
   "cell_type": "markdown",
   "metadata": {},
   "source": [
    "Total cost of storing all of the 2019 data:"
   ]
  },
  {
   "cell_type": "code",
   "execution_count": 13,
   "metadata": {},
   "outputs": [
    {
     "data": {
      "text/plain": [
       "0.5497"
      ]
     },
     "execution_count": 13,
     "metadata": {},
     "output_type": "execute_result"
    }
   ],
   "source": [
    "23.9 * 0.023 # $0.54 "
   ]
  },
  {
   "cell_type": "markdown",
   "metadata": {},
   "source": [
    "# Create function for saving a list of all the bucket names"
   ]
  },
  {
   "cell_type": "code",
   "execution_count": 14,
   "metadata": {},
   "outputs": [],
   "source": [
    "def match_bucket_list(bucket, match='', size_mb=0):\n",
    "    key_list = []\n",
    "    bucket_resource = s3_resource.Bucket(bucket)\n",
    "    \n",
    "    for key in bucket_resource.objects.all():\n",
    "        key_size_mb = key.size/1024/1024\n",
    "        list_check = False\n",
    "        if not match:\n",
    "            list_check = True\n",
    "        elif match in key.key:\n",
    "            list_check = True\n",
    "        if list_check and not size_mb:\n",
    "            key_list.append(key.key)\n",
    "        elif list_check and key_size_mb <= size_mb:\n",
    "            key_list.append(key.key)\n",
    "    \n",
    "    return key_list"
   ]
  },
  {
   "cell_type": "code",
   "execution_count": 15,
   "metadata": {
    "scrolled": true
   },
   "outputs": [],
   "source": [
    "key_list = match_bucket_list(bucket='nyc-tlc', match='2019')"
   ]
  },
  {
   "cell_type": "markdown",
   "metadata": {},
   "source": [
    "# Seperate list into yellow and green taxi data"
   ]
  },
  {
   "cell_type": "code",
   "execution_count": 16,
   "metadata": {},
   "outputs": [],
   "source": [
    "green_list = []\n",
    "yellow_list = []\n",
    "\n",
    "for i in key_list:\n",
    "    if 'yellow' in i:\n",
    "        yellow_list.append(i)\n",
    "    if 'green' in i:\n",
    "        green_list.append(i)"
   ]
  },
  {
   "cell_type": "code",
   "execution_count": 17,
   "metadata": {},
   "outputs": [
    {
     "data": {
      "text/plain": [
       "['trip data/yellow_tripdata_2019-01.csv',\n",
       " 'trip data/yellow_tripdata_2019-02.csv',\n",
       " 'trip data/yellow_tripdata_2019-03.csv',\n",
       " 'trip data/yellow_tripdata_2019-04.csv',\n",
       " 'trip data/yellow_tripdata_2019-05.csv',\n",
       " 'trip data/yellow_tripdata_2019-06.csv',\n",
       " 'trip data/yellow_tripdata_2019-07.csv',\n",
       " 'trip data/yellow_tripdata_2019-08.csv',\n",
       " 'trip data/yellow_tripdata_2019-09.csv',\n",
       " 'trip data/yellow_tripdata_2019-10.csv',\n",
       " 'trip data/yellow_tripdata_2019-11.csv',\n",
       " 'trip data/yellow_tripdata_2019-12.csv']"
      ]
     },
     "execution_count": 17,
     "metadata": {},
     "output_type": "execute_result"
    }
   ],
   "source": [
    "yellow_list"
   ]
  },
  {
   "cell_type": "code",
   "execution_count": 18,
   "metadata": {},
   "outputs": [
    {
     "data": {
      "text/plain": [
       "['trip data/green_tripdata_2019-01.csv',\n",
       " 'trip data/green_tripdata_2019-02.csv',\n",
       " 'trip data/green_tripdata_2019-03.csv',\n",
       " 'trip data/green_tripdata_2019-04.csv',\n",
       " 'trip data/green_tripdata_2019-05.csv',\n",
       " 'trip data/green_tripdata_2019-06.csv',\n",
       " 'trip data/green_tripdata_2019-07.csv',\n",
       " 'trip data/green_tripdata_2019-08.csv',\n",
       " 'trip data/green_tripdata_2019-09.csv',\n",
       " 'trip data/green_tripdata_2019-10.csv',\n",
       " 'trip data/green_tripdata_2019-11.csv',\n",
       " 'trip data/green_tripdata_2019-12.csv']"
      ]
     },
     "execution_count": 18,
     "metadata": {},
     "output_type": "execute_result"
    }
   ],
   "source": [
    "green_list"
   ]
  },
  {
   "cell_type": "markdown",
   "metadata": {},
   "source": [
    "# Create functions for copying buckets"
   ]
  },
  {
   "cell_type": "code",
   "execution_count": 19,
   "metadata": {},
   "outputs": [],
   "source": [
    "def key_exists(bucket, key):\n",
    "    try:\n",
    "        s3_resource.Object(bucket, key).load()\n",
    "    except botocore.exceptions.ClientError as e:\n",
    "        if e.response['Error']['Code'] == \"404\":\n",
    "            # The key does not exist.\n",
    "            return(False)\n",
    "        else:\n",
    "            # Something else has gone wrong.\n",
    "            raise\n",
    "    else:\n",
    "        # The key does exist.\n",
    "        return(True)\n",
    "\n",
    "def copy_among_buckets(from_bucket, from_key, to_bucket, to_key):\n",
    "    if not key_exists(to_bucket, to_key):\n",
    "        s3_resource.meta.client.copy({'Bucket': from_bucket, 'Key': from_key}, \n",
    "                                        to_bucket, to_key)        \n",
    "        print(f'File {to_key} saved to S3 bucket {to_bucket}')\n",
    "    else:\n",
    "        print(f'File {to_key} already exists in S3 bucket {to_bucket}') "
   ]
  },
  {
   "cell_type": "code",
   "execution_count": 20,
   "metadata": {},
   "outputs": [
    {
     "name": "stdout",
     "output_type": "stream",
     "text": [
      "File yellow2019/yellow_tripdata_2019-01.csv already exists in S3 bucket taxinyc\n",
      "File yellow2019/yellow_tripdata_2019-02.csv already exists in S3 bucket taxinyc\n",
      "File yellow2019/yellow_tripdata_2019-03.csv already exists in S3 bucket taxinyc\n",
      "File yellow2019/yellow_tripdata_2019-04.csv already exists in S3 bucket taxinyc\n",
      "File yellow2019/yellow_tripdata_2019-05.csv already exists in S3 bucket taxinyc\n",
      "File yellow2019/yellow_tripdata_2019-06.csv already exists in S3 bucket taxinyc\n",
      "File yellow2019/yellow_tripdata_2019-07.csv already exists in S3 bucket taxinyc\n",
      "File yellow2019/yellow_tripdata_2019-08.csv already exists in S3 bucket taxinyc\n",
      "File yellow2019/yellow_tripdata_2019-09.csv already exists in S3 bucket taxinyc\n",
      "File yellow2019/yellow_tripdata_2019-10.csv already exists in S3 bucket taxinyc\n",
      "File yellow2019/yellow_tripdata_2019-11.csv already exists in S3 bucket taxinyc\n",
      "File yellow2019/yellow_tripdata_2019-12.csv already exists in S3 bucket taxinyc\n"
     ]
    }
   ],
   "source": [
    "for i in yellow_list:\n",
    "    to_bucket_name = i.replace('trip data/', '')\n",
    "    copy_among_buckets(from_bucket='nyc-tlc', from_key=i,\n",
    "                       to_bucket='taxinyc', to_key=\"yellow2019/\" + to_bucket_name)"
   ]
  },
  {
   "cell_type": "code",
   "execution_count": 21,
   "metadata": {},
   "outputs": [
    {
     "name": "stdout",
     "output_type": "stream",
     "text": [
      "File green2019/green_tripdata_2019-01.csv already exists in S3 bucket taxinyc\n",
      "File green2019/green_tripdata_2019-02.csv already exists in S3 bucket taxinyc\n",
      "File green2019/green_tripdata_2019-03.csv already exists in S3 bucket taxinyc\n",
      "File green2019/green_tripdata_2019-04.csv already exists in S3 bucket taxinyc\n",
      "File green2019/green_tripdata_2019-05.csv already exists in S3 bucket taxinyc\n",
      "File green2019/green_tripdata_2019-06.csv already exists in S3 bucket taxinyc\n",
      "File green2019/green_tripdata_2019-07.csv already exists in S3 bucket taxinyc\n",
      "File green2019/green_tripdata_2019-08.csv already exists in S3 bucket taxinyc\n",
      "File green2019/green_tripdata_2019-09.csv already exists in S3 bucket taxinyc\n",
      "File green2019/green_tripdata_2019-10.csv already exists in S3 bucket taxinyc\n",
      "File green2019/green_tripdata_2019-11.csv already exists in S3 bucket taxinyc\n",
      "File green2019/green_tripdata_2019-12.csv already exists in S3 bucket taxinyc\n"
     ]
    }
   ],
   "source": [
    "for i in green_list:\n",
    "    to_bucket_name = i.replace('trip data/', '')\n",
    "    copy_among_buckets(from_bucket='nyc-tlc', from_key=i,\n",
    "                       to_bucket='taxinyc', to_key=\"green2019/\" + to_bucket_name)"
   ]
  },
  {
   "cell_type": "code",
   "execution_count": 22,
   "metadata": {},
   "outputs": [],
   "source": [
    "def preview_csv_dataset(bucket, key, rows=10):\n",
    "    data_source = {\n",
    "            'Bucket': bucket,\n",
    "            'Key': key\n",
    "        }\n",
    "    # Generate the URL to get Key from Bucket\n",
    "    url = s3.generate_presigned_url(\n",
    "        ClientMethod = 'get_object',\n",
    "        Params = data_source\n",
    "    )\n",
    "\n",
    "    data = pd.read_csv(url, nrows=rows)\n",
    "    return data"
   ]
  },
  {
   "cell_type": "code",
   "execution_count": 23,
   "metadata": {},
   "outputs": [],
   "source": [
    "green01 = preview_csv_dataset(bucket='taxinyc', key='green2019/green_tripdata_2019-01.csv')\n",
    "green02 = preview_csv_dataset(bucket='taxinyc', key='green2019/green_tripdata_2019-02.csv')\n",
    "green03 = preview_csv_dataset(bucket='taxinyc', key='green2019/green_tripdata_2019-03.csv')\n",
    "green04 = preview_csv_dataset(bucket='taxinyc', key='green2019/green_tripdata_2019-04.csv')\n",
    "green05 = preview_csv_dataset(bucket='taxinyc', key='green2019/green_tripdata_2019-05.csv')\n",
    "green06 = preview_csv_dataset(bucket='taxinyc', key='green2019/green_tripdata_2019-06.csv')\n",
    "green07 = preview_csv_dataset(bucket='taxinyc', key='green2019/green_tripdata_2019-07.csv')\n",
    "green08 = preview_csv_dataset(bucket='taxinyc', key='green2019/green_tripdata_2019-08.csv')\n",
    "green09 = preview_csv_dataset(bucket='taxinyc', key='green2019/green_tripdata_2019-09.csv')\n",
    "green10 = preview_csv_dataset(bucket='taxinyc', key='green2019/green_tripdata_2019-10.csv')\n",
    "green11 = preview_csv_dataset(bucket='taxinyc', key='green2019/green_tripdata_2019-11.csv')\n",
    "green12 = preview_csv_dataset(bucket='taxinyc', key='green2019/green_tripdata_2019-12.csv')"
   ]
  },
  {
   "cell_type": "code",
   "execution_count": 24,
   "metadata": {},
   "outputs": [],
   "source": [
    "green = green01.append(green02)\n",
    "green= green.append(green03)\n",
    "green= green.append(green04)\n",
    "green= green.append(green05)\n",
    "green= green.append(green06)\n",
    "green= green.append(green07)\n",
    "green= green.append(green08)\n",
    "green= green.append(green09)\n",
    "green= green.append(green10)\n",
    "green= green.append(green11)\n",
    "green= green.append(green12)"
   ]
  },
  {
   "cell_type": "code",
   "execution_count": 25,
   "metadata": {},
   "outputs": [
    {
     "data": {
      "text/html": [
       "<div>\n",
       "<style scoped>\n",
       "    .dataframe tbody tr th:only-of-type {\n",
       "        vertical-align: middle;\n",
       "    }\n",
       "\n",
       "    .dataframe tbody tr th {\n",
       "        vertical-align: top;\n",
       "    }\n",
       "\n",
       "    .dataframe thead th {\n",
       "        text-align: right;\n",
       "    }\n",
       "</style>\n",
       "<table border=\"1\" class=\"dataframe\">\n",
       "  <thead>\n",
       "    <tr style=\"text-align: right;\">\n",
       "      <th></th>\n",
       "      <th>VendorID</th>\n",
       "      <th>lpep_pickup_datetime</th>\n",
       "      <th>lpep_dropoff_datetime</th>\n",
       "      <th>store_and_fwd_flag</th>\n",
       "      <th>RatecodeID</th>\n",
       "      <th>PULocationID</th>\n",
       "      <th>DOLocationID</th>\n",
       "      <th>passenger_count</th>\n",
       "      <th>trip_distance</th>\n",
       "      <th>fare_amount</th>\n",
       "      <th>extra</th>\n",
       "      <th>mta_tax</th>\n",
       "      <th>tip_amount</th>\n",
       "      <th>tolls_amount</th>\n",
       "      <th>ehail_fee</th>\n",
       "      <th>improvement_surcharge</th>\n",
       "      <th>total_amount</th>\n",
       "      <th>payment_type</th>\n",
       "      <th>trip_type</th>\n",
       "      <th>congestion_surcharge</th>\n",
       "    </tr>\n",
       "  </thead>\n",
       "  <tbody>\n",
       "    <tr>\n",
       "      <th>0</th>\n",
       "      <td>2</td>\n",
       "      <td>2018-12-21 15:17:29</td>\n",
       "      <td>2018-12-21 15:18:57</td>\n",
       "      <td>N</td>\n",
       "      <td>1</td>\n",
       "      <td>264</td>\n",
       "      <td>264</td>\n",
       "      <td>5</td>\n",
       "      <td>0.00</td>\n",
       "      <td>3.0</td>\n",
       "      <td>0.5</td>\n",
       "      <td>0.5</td>\n",
       "      <td>0.00</td>\n",
       "      <td>0.0</td>\n",
       "      <td>NaN</td>\n",
       "      <td>0.3</td>\n",
       "      <td>4.30</td>\n",
       "      <td>2</td>\n",
       "      <td>1</td>\n",
       "      <td>NaN</td>\n",
       "    </tr>\n",
       "    <tr>\n",
       "      <th>1</th>\n",
       "      <td>2</td>\n",
       "      <td>2019-01-01 00:10:16</td>\n",
       "      <td>2019-01-01 00:16:32</td>\n",
       "      <td>N</td>\n",
       "      <td>1</td>\n",
       "      <td>97</td>\n",
       "      <td>49</td>\n",
       "      <td>2</td>\n",
       "      <td>0.86</td>\n",
       "      <td>6.0</td>\n",
       "      <td>0.5</td>\n",
       "      <td>0.5</td>\n",
       "      <td>0.00</td>\n",
       "      <td>0.0</td>\n",
       "      <td>NaN</td>\n",
       "      <td>0.3</td>\n",
       "      <td>7.30</td>\n",
       "      <td>2</td>\n",
       "      <td>1</td>\n",
       "      <td>NaN</td>\n",
       "    </tr>\n",
       "    <tr>\n",
       "      <th>2</th>\n",
       "      <td>2</td>\n",
       "      <td>2019-01-01 00:27:11</td>\n",
       "      <td>2019-01-01 00:31:38</td>\n",
       "      <td>N</td>\n",
       "      <td>1</td>\n",
       "      <td>49</td>\n",
       "      <td>189</td>\n",
       "      <td>2</td>\n",
       "      <td>0.66</td>\n",
       "      <td>4.5</td>\n",
       "      <td>0.5</td>\n",
       "      <td>0.5</td>\n",
       "      <td>0.00</td>\n",
       "      <td>0.0</td>\n",
       "      <td>NaN</td>\n",
       "      <td>0.3</td>\n",
       "      <td>5.80</td>\n",
       "      <td>1</td>\n",
       "      <td>1</td>\n",
       "      <td>NaN</td>\n",
       "    </tr>\n",
       "    <tr>\n",
       "      <th>3</th>\n",
       "      <td>2</td>\n",
       "      <td>2019-01-01 00:46:20</td>\n",
       "      <td>2019-01-01 01:04:54</td>\n",
       "      <td>N</td>\n",
       "      <td>1</td>\n",
       "      <td>189</td>\n",
       "      <td>17</td>\n",
       "      <td>2</td>\n",
       "      <td>2.68</td>\n",
       "      <td>13.5</td>\n",
       "      <td>0.5</td>\n",
       "      <td>0.5</td>\n",
       "      <td>2.96</td>\n",
       "      <td>0.0</td>\n",
       "      <td>NaN</td>\n",
       "      <td>0.3</td>\n",
       "      <td>19.71</td>\n",
       "      <td>1</td>\n",
       "      <td>1</td>\n",
       "      <td>NaN</td>\n",
       "    </tr>\n",
       "    <tr>\n",
       "      <th>4</th>\n",
       "      <td>2</td>\n",
       "      <td>2019-01-01 00:19:06</td>\n",
       "      <td>2019-01-01 00:39:43</td>\n",
       "      <td>N</td>\n",
       "      <td>1</td>\n",
       "      <td>82</td>\n",
       "      <td>258</td>\n",
       "      <td>1</td>\n",
       "      <td>4.53</td>\n",
       "      <td>18.0</td>\n",
       "      <td>0.5</td>\n",
       "      <td>0.5</td>\n",
       "      <td>0.00</td>\n",
       "      <td>0.0</td>\n",
       "      <td>NaN</td>\n",
       "      <td>0.3</td>\n",
       "      <td>19.30</td>\n",
       "      <td>2</td>\n",
       "      <td>1</td>\n",
       "      <td>NaN</td>\n",
       "    </tr>\n",
       "  </tbody>\n",
       "</table>\n",
       "</div>"
      ],
      "text/plain": [
       "   VendorID lpep_pickup_datetime lpep_dropoff_datetime store_and_fwd_flag  \\\n",
       "0         2  2018-12-21 15:17:29   2018-12-21 15:18:57                  N   \n",
       "1         2  2019-01-01 00:10:16   2019-01-01 00:16:32                  N   \n",
       "2         2  2019-01-01 00:27:11   2019-01-01 00:31:38                  N   \n",
       "3         2  2019-01-01 00:46:20   2019-01-01 01:04:54                  N   \n",
       "4         2  2019-01-01 00:19:06   2019-01-01 00:39:43                  N   \n",
       "\n",
       "   RatecodeID  PULocationID  DOLocationID  passenger_count  trip_distance  \\\n",
       "0           1           264           264                5           0.00   \n",
       "1           1            97            49                2           0.86   \n",
       "2           1            49           189                2           0.66   \n",
       "3           1           189            17                2           2.68   \n",
       "4           1            82           258                1           4.53   \n",
       "\n",
       "   fare_amount  extra  mta_tax  tip_amount  tolls_amount  ehail_fee  \\\n",
       "0          3.0    0.5      0.5        0.00           0.0        NaN   \n",
       "1          6.0    0.5      0.5        0.00           0.0        NaN   \n",
       "2          4.5    0.5      0.5        0.00           0.0        NaN   \n",
       "3         13.5    0.5      0.5        2.96           0.0        NaN   \n",
       "4         18.0    0.5      0.5        0.00           0.0        NaN   \n",
       "\n",
       "   improvement_surcharge  total_amount  payment_type  trip_type  \\\n",
       "0                    0.3          4.30             2          1   \n",
       "1                    0.3          7.30             2          1   \n",
       "2                    0.3          5.80             1          1   \n",
       "3                    0.3         19.71             1          1   \n",
       "4                    0.3         19.30             2          1   \n",
       "\n",
       "   congestion_surcharge  \n",
       "0                   NaN  \n",
       "1                   NaN  \n",
       "2                   NaN  \n",
       "3                   NaN  \n",
       "4                   NaN  "
      ]
     },
     "execution_count": 25,
     "metadata": {},
     "output_type": "execute_result"
    }
   ],
   "source": [
    "green.head()"
   ]
  },
  {
   "cell_type": "code",
   "execution_count": 27,
   "metadata": {},
   "outputs": [
    {
     "name": "stdout",
     "output_type": "stream",
     "text": [
      "--****-----\n",
      "--****-----\n",
      "--****-----\n",
      "--****-----\n",
      "--****-----\n",
      "--****-----\n",
      "--****-----\n",
      "--****-----\n",
      "--****-----\n",
      "--****-----\n",
      "--****-----\n",
      "Done\n"
     ]
    }
   ],
   "source": [
    "yellow01 = preview_csv_dataset(bucket='taxinyc', key='yellow2019/yellow_tripdata_2019-01.csv')\n",
    "print(\"--****-----\")\n",
    "yellow02 = preview_csv_dataset(bucket='taxinyc', key='yellow2019/yellow_tripdata_2019-02.csv')\n",
    "print(\"--****-----\")\n",
    "yellow03 = preview_csv_dataset(bucket='taxinyc', key='yellow2019/yellow_tripdata_2019-03.csv')\n",
    "print(\"--****-----\")\n",
    "yellow04 = preview_csv_dataset(bucket='taxinyc', key='yellow2019/yellow_tripdata_2019-04.csv')\n",
    "print(\"--****-----\")\n",
    "yellow05 = preview_csv_dataset(bucket='taxinyc', key='yellow2019/yellow_tripdata_2019-05.csv')\n",
    "print(\"--****-----\")\n",
    "yellow06 = preview_csv_dataset(bucket='taxinyc', key='yellow2019/yellow_tripdata_2019-06.csv')\n",
    "print(\"--****-----\")\n",
    "yellow07 = preview_csv_dataset(bucket='taxinyc', key='yellow2019/yellow_tripdata_2019-07.csv')\n",
    "print(\"--****-----\")\n",
    "yellow08 = preview_csv_dataset(bucket='taxinyc', key='yellow2019/yellow_tripdata_2019-08.csv')\n",
    "print(\"--****-----\")\n",
    "yellow09= preview_csv_dataset(bucket='taxinyc', key='yellow2019/yellow_tripdata_2019-09.csv')\n",
    "print(\"--****-----\")\n",
    "yellow10 = preview_csv_dataset(bucket='taxinyc', key='yellow2019/yellow_tripdata_2019-10.csv')\n",
    "print(\"--****-----\")\n",
    "yellow11 = preview_csv_dataset(bucket='taxinyc', key='yellow2019/yellow_tripdata_2019-11.csv')\n",
    "print(\"--****-----\")\n",
    "yellow12 = preview_csv_dataset(bucket='taxinyc', key='yellow2019/yellow_tripdata_2019-12.csv')\n",
    "print(\"Done\")"
   ]
  },
  {
   "cell_type": "code",
   "execution_count": 28,
   "metadata": {},
   "outputs": [],
   "source": [
    "yellow = yellow01.append(yellow02)\n",
    "yellow= yellow.append(yellow03)\n",
    "yellow= yellow.append(yellow04)\n",
    "yellow= yellow.append(yellow05)\n",
    "yellow= yellow.append(yellow06)\n",
    "yellow= yellow.append(yellow07)\n",
    "yellow= yellow.append(yellow08)\n",
    "yellow= yellow.append(yellow09)\n",
    "yellow= yellow.append(yellow10)\n",
    "yellow= yellow.append(yellow11)\n",
    "yellow= yellow.append(yellow12)"
   ]
  },
  {
   "cell_type": "code",
   "execution_count": 32,
   "metadata": {},
   "outputs": [
    {
     "data": {
      "text/html": [
       "<div>\n",
       "<style scoped>\n",
       "    .dataframe tbody tr th:only-of-type {\n",
       "        vertical-align: middle;\n",
       "    }\n",
       "\n",
       "    .dataframe tbody tr th {\n",
       "        vertical-align: top;\n",
       "    }\n",
       "\n",
       "    .dataframe thead th {\n",
       "        text-align: right;\n",
       "    }\n",
       "</style>\n",
       "<table border=\"1\" class=\"dataframe\">\n",
       "  <thead>\n",
       "    <tr style=\"text-align: right;\">\n",
       "      <th></th>\n",
       "      <th>VendorID</th>\n",
       "      <th>tpep_pickup_datetime</th>\n",
       "      <th>tpep_dropoff_datetime</th>\n",
       "      <th>passenger_count</th>\n",
       "      <th>trip_distance</th>\n",
       "      <th>RatecodeID</th>\n",
       "      <th>store_and_fwd_flag</th>\n",
       "      <th>PULocationID</th>\n",
       "      <th>DOLocationID</th>\n",
       "      <th>payment_type</th>\n",
       "      <th>fare_amount</th>\n",
       "      <th>extra</th>\n",
       "      <th>mta_tax</th>\n",
       "      <th>tip_amount</th>\n",
       "      <th>tolls_amount</th>\n",
       "      <th>improvement_surcharge</th>\n",
       "      <th>total_amount</th>\n",
       "      <th>congestion_surcharge</th>\n",
       "    </tr>\n",
       "  </thead>\n",
       "  <tbody>\n",
       "    <tr>\n",
       "      <th>5</th>\n",
       "      <td>1</td>\n",
       "      <td>2019-12-01 00:58:51</td>\n",
       "      <td>2019-12-01 01:08:37</td>\n",
       "      <td>2</td>\n",
       "      <td>1.0</td>\n",
       "      <td>1</td>\n",
       "      <td>N</td>\n",
       "      <td>161</td>\n",
       "      <td>230</td>\n",
       "      <td>2</td>\n",
       "      <td>6.5</td>\n",
       "      <td>3.0</td>\n",
       "      <td>0.5</td>\n",
       "      <td>0.00</td>\n",
       "      <td>0.0</td>\n",
       "      <td>0.3</td>\n",
       "      <td>10.30</td>\n",
       "      <td>2.5</td>\n",
       "    </tr>\n",
       "    <tr>\n",
       "      <th>6</th>\n",
       "      <td>1</td>\n",
       "      <td>2019-12-01 00:14:19</td>\n",
       "      <td>2019-12-01 00:27:06</td>\n",
       "      <td>0</td>\n",
       "      <td>1.7</td>\n",
       "      <td>1</td>\n",
       "      <td>Y</td>\n",
       "      <td>164</td>\n",
       "      <td>163</td>\n",
       "      <td>2</td>\n",
       "      <td>10.0</td>\n",
       "      <td>3.0</td>\n",
       "      <td>0.5</td>\n",
       "      <td>0.00</td>\n",
       "      <td>0.0</td>\n",
       "      <td>0.3</td>\n",
       "      <td>13.80</td>\n",
       "      <td>2.5</td>\n",
       "    </tr>\n",
       "    <tr>\n",
       "      <th>7</th>\n",
       "      <td>1</td>\n",
       "      <td>2019-12-01 00:29:35</td>\n",
       "      <td>2019-12-01 00:32:29</td>\n",
       "      <td>0</td>\n",
       "      <td>0.5</td>\n",
       "      <td>1</td>\n",
       "      <td>N</td>\n",
       "      <td>79</td>\n",
       "      <td>224</td>\n",
       "      <td>1</td>\n",
       "      <td>4.0</td>\n",
       "      <td>3.0</td>\n",
       "      <td>0.5</td>\n",
       "      <td>1.55</td>\n",
       "      <td>0.0</td>\n",
       "      <td>0.3</td>\n",
       "      <td>9.35</td>\n",
       "      <td>2.5</td>\n",
       "    </tr>\n",
       "    <tr>\n",
       "      <th>8</th>\n",
       "      <td>1</td>\n",
       "      <td>2019-12-01 00:42:19</td>\n",
       "      <td>2019-12-01 00:50:34</td>\n",
       "      <td>0</td>\n",
       "      <td>1.4</td>\n",
       "      <td>1</td>\n",
       "      <td>N</td>\n",
       "      <td>79</td>\n",
       "      <td>107</td>\n",
       "      <td>2</td>\n",
       "      <td>7.5</td>\n",
       "      <td>3.0</td>\n",
       "      <td>0.5</td>\n",
       "      <td>0.00</td>\n",
       "      <td>0.0</td>\n",
       "      <td>0.3</td>\n",
       "      <td>11.30</td>\n",
       "      <td>2.5</td>\n",
       "    </tr>\n",
       "    <tr>\n",
       "      <th>9</th>\n",
       "      <td>1</td>\n",
       "      <td>2019-12-01 00:19:48</td>\n",
       "      <td>2019-12-01 00:24:18</td>\n",
       "      <td>1</td>\n",
       "      <td>0.9</td>\n",
       "      <td>1</td>\n",
       "      <td>N</td>\n",
       "      <td>148</td>\n",
       "      <td>4</td>\n",
       "      <td>1</td>\n",
       "      <td>5.5</td>\n",
       "      <td>3.0</td>\n",
       "      <td>0.5</td>\n",
       "      <td>1.85</td>\n",
       "      <td>0.0</td>\n",
       "      <td>0.3</td>\n",
       "      <td>11.15</td>\n",
       "      <td>2.5</td>\n",
       "    </tr>\n",
       "  </tbody>\n",
       "</table>\n",
       "</div>"
      ],
      "text/plain": [
       "   VendorID tpep_pickup_datetime tpep_dropoff_datetime  passenger_count  \\\n",
       "5         1  2019-12-01 00:58:51   2019-12-01 01:08:37                2   \n",
       "6         1  2019-12-01 00:14:19   2019-12-01 00:27:06                0   \n",
       "7         1  2019-12-01 00:29:35   2019-12-01 00:32:29                0   \n",
       "8         1  2019-12-01 00:42:19   2019-12-01 00:50:34                0   \n",
       "9         1  2019-12-01 00:19:48   2019-12-01 00:24:18                1   \n",
       "\n",
       "   trip_distance  RatecodeID store_and_fwd_flag  PULocationID  DOLocationID  \\\n",
       "5            1.0           1                  N           161           230   \n",
       "6            1.7           1                  Y           164           163   \n",
       "7            0.5           1                  N            79           224   \n",
       "8            1.4           1                  N            79           107   \n",
       "9            0.9           1                  N           148             4   \n",
       "\n",
       "   payment_type  fare_amount  extra  mta_tax  tip_amount  tolls_amount  \\\n",
       "5             2          6.5    3.0      0.5        0.00           0.0   \n",
       "6             2         10.0    3.0      0.5        0.00           0.0   \n",
       "7             1          4.0    3.0      0.5        1.55           0.0   \n",
       "8             2          7.5    3.0      0.5        0.00           0.0   \n",
       "9             1          5.5    3.0      0.5        1.85           0.0   \n",
       "\n",
       "   improvement_surcharge  total_amount  congestion_surcharge  \n",
       "5                    0.3         10.30                   2.5  \n",
       "6                    0.3         13.80                   2.5  \n",
       "7                    0.3          9.35                   2.5  \n",
       "8                    0.3         11.30                   2.5  \n",
       "9                    0.3         11.15                   2.5  "
      ]
     },
     "execution_count": 32,
     "metadata": {},
     "output_type": "execute_result"
    }
   ],
   "source": [
    "yellow.tail()"
   ]
  },
  {
   "cell_type": "code",
   "execution_count": 33,
   "metadata": {},
   "outputs": [],
   "source": [
    "green['TaxiType'] = '0'\n",
    "yellow['TaxiType'] = '1'"
   ]
  },
  {
   "cell_type": "code",
   "execution_count": 36,
   "metadata": {},
   "outputs": [
    {
     "data": {
      "text/plain": [
       "VendorID                   int64\n",
       "lpep_pickup_datetime      object\n",
       "lpep_dropoff_datetime     object\n",
       "store_and_fwd_flag        object\n",
       "RatecodeID                 int64\n",
       "PULocationID               int64\n",
       "DOLocationID               int64\n",
       "passenger_count            int64\n",
       "trip_distance            float64\n",
       "fare_amount              float64\n",
       "extra                    float64\n",
       "mta_tax                  float64\n",
       "tip_amount               float64\n",
       "tolls_amount             float64\n",
       "ehail_fee                float64\n",
       "improvement_surcharge    float64\n",
       "total_amount             float64\n",
       "payment_type               int64\n",
       "trip_type                  int64\n",
       "congestion_surcharge     float64\n",
       "TaxiType                  object\n",
       "dtype: object"
      ]
     },
     "execution_count": 36,
     "metadata": {},
     "output_type": "execute_result"
    }
   ],
   "source": [
    "green.dtypes"
   ]
  },
  {
   "cell_type": "code",
   "execution_count": 83,
   "metadata": {},
   "outputs": [
    {
     "ename": "ValueError",
     "evalue": "cannot copy sequence with size 120 to array axis with dimension 22",
     "output_type": "error",
     "traceback": [
      "\u001b[0;31m---------------------------------------------------------------------------\u001b[0m",
      "\u001b[0;31mValueError\u001b[0m                                Traceback (most recent call last)",
      "\u001b[0;32m<ipython-input-83-5e08d6b9fb59>\u001b[0m in \u001b[0;36m<module>\u001b[0;34m\u001b[0m\n\u001b[1;32m      1\u001b[0m \u001b[0;32mimport\u001b[0m \u001b[0mstatsmodels\u001b[0m\u001b[0;34m.\u001b[0m\u001b[0mapi\u001b[0m \u001b[0;32mas\u001b[0m \u001b[0msm\u001b[0m\u001b[0;34m\u001b[0m\u001b[0;34m\u001b[0m\u001b[0m\n\u001b[0;32m----> 2\u001b[0;31m \u001b[0mX\u001b[0m \u001b[0;34m=\u001b[0m \u001b[0mgreen\u001b[0m\u001b[0;34m[\u001b[0m\u001b[0;34m[\u001b[0m\u001b[0mgreen\u001b[0m\u001b[0;34m.\u001b[0m\u001b[0mdrop\u001b[0m\u001b[0;34m(\u001b[0m\u001b[0;34m\"total_amount\"\u001b[0m\u001b[0;34m,\u001b[0m \u001b[0maxis\u001b[0m\u001b[0;34m=\u001b[0m\u001b[0;36m1\u001b[0m\u001b[0;34m)\u001b[0m\u001b[0;34m]\u001b[0m\u001b[0;34m]\u001b[0m\u001b[0;34m\u001b[0m\u001b[0;34m\u001b[0m\u001b[0m\n\u001b[0m\u001b[1;32m      3\u001b[0m \u001b[0mY\u001b[0m\u001b[0;34m=\u001b[0m\u001b[0mgreen\u001b[0m\u001b[0;34m[\u001b[0m\u001b[0;34m\"total_amount\"\u001b[0m\u001b[0;34m]\u001b[0m\u001b[0;34m\u001b[0m\u001b[0;34m\u001b[0m\u001b[0m\n\u001b[1;32m      4\u001b[0m \u001b[0mmodel\u001b[0m \u001b[0;34m=\u001b[0m \u001b[0msm\u001b[0m\u001b[0;34m.\u001b[0m\u001b[0mOLS\u001b[0m\u001b[0;34m(\u001b[0m\u001b[0mY\u001b[0m\u001b[0;34m,\u001b[0m \u001b[0mX\u001b[0m\u001b[0;34m)\u001b[0m\u001b[0;34m.\u001b[0m\u001b[0mfit\u001b[0m\u001b[0;34m(\u001b[0m\u001b[0;34m)\u001b[0m\u001b[0;34m\u001b[0m\u001b[0;34m\u001b[0m\u001b[0m\n\u001b[1;32m      5\u001b[0m \u001b[0mgreen\u001b[0m\u001b[0;34m[\u001b[0m\u001b[0;34m'predicted Total Amount'\u001b[0m\u001b[0;34m]\u001b[0m \u001b[0;34m=\u001b[0m \u001b[0mround\u001b[0m\u001b[0;34m(\u001b[0m\u001b[0mmodel\u001b[0m\u001b[0;34m.\u001b[0m\u001b[0mpredict\u001b[0m\u001b[0;34m(\u001b[0m\u001b[0mX\u001b[0m\u001b[0;34m)\u001b[0m\u001b[0;34m,\u001b[0m\u001b[0;36m1\u001b[0m\u001b[0;34m)\u001b[0m\u001b[0;34m\u001b[0m\u001b[0;34m\u001b[0m\u001b[0m\n",
      "\u001b[0;32m/anaconda3/lib/python3.7/site-packages/pandas/core/frame.py\u001b[0m in \u001b[0;36m__getitem__\u001b[0;34m(self, key)\u001b[0m\n\u001b[1;32m   2915\u001b[0m \u001b[0;34m\u001b[0m\u001b[0m\n\u001b[1;32m   2916\u001b[0m         \u001b[0;31m# Do we have a (boolean) 1d indexer?\u001b[0m\u001b[0;34m\u001b[0m\u001b[0;34m\u001b[0m\u001b[0;34m\u001b[0m\u001b[0m\n\u001b[0;32m-> 2917\u001b[0;31m         \u001b[0;32mif\u001b[0m \u001b[0mcom\u001b[0m\u001b[0;34m.\u001b[0m\u001b[0mis_bool_indexer\u001b[0m\u001b[0;34m(\u001b[0m\u001b[0mkey\u001b[0m\u001b[0;34m)\u001b[0m\u001b[0;34m:\u001b[0m\u001b[0;34m\u001b[0m\u001b[0;34m\u001b[0m\u001b[0m\n\u001b[0m\u001b[1;32m   2918\u001b[0m             \u001b[0;32mreturn\u001b[0m \u001b[0mself\u001b[0m\u001b[0;34m.\u001b[0m\u001b[0m_getitem_bool_array\u001b[0m\u001b[0;34m(\u001b[0m\u001b[0mkey\u001b[0m\u001b[0;34m)\u001b[0m\u001b[0;34m\u001b[0m\u001b[0;34m\u001b[0m\u001b[0m\n\u001b[1;32m   2919\u001b[0m \u001b[0;34m\u001b[0m\u001b[0m\n",
      "\u001b[0;32m/anaconda3/lib/python3.7/site-packages/pandas/core/common.py\u001b[0m in \u001b[0;36mis_bool_indexer\u001b[0;34m(key)\u001b[0m\n\u001b[1;32m    134\u001b[0m     \u001b[0;32melif\u001b[0m \u001b[0misinstance\u001b[0m\u001b[0;34m(\u001b[0m\u001b[0mkey\u001b[0m\u001b[0;34m,\u001b[0m \u001b[0mlist\u001b[0m\u001b[0;34m)\u001b[0m\u001b[0;34m:\u001b[0m\u001b[0;34m\u001b[0m\u001b[0;34m\u001b[0m\u001b[0m\n\u001b[1;32m    135\u001b[0m         \u001b[0;32mtry\u001b[0m\u001b[0;34m:\u001b[0m\u001b[0;34m\u001b[0m\u001b[0;34m\u001b[0m\u001b[0m\n\u001b[0;32m--> 136\u001b[0;31m             \u001b[0marr\u001b[0m \u001b[0;34m=\u001b[0m \u001b[0mnp\u001b[0m\u001b[0;34m.\u001b[0m\u001b[0masarray\u001b[0m\u001b[0;34m(\u001b[0m\u001b[0mkey\u001b[0m\u001b[0;34m)\u001b[0m\u001b[0;34m\u001b[0m\u001b[0;34m\u001b[0m\u001b[0m\n\u001b[0m\u001b[1;32m    137\u001b[0m             \u001b[0;32mreturn\u001b[0m \u001b[0marr\u001b[0m\u001b[0;34m.\u001b[0m\u001b[0mdtype\u001b[0m \u001b[0;34m==\u001b[0m \u001b[0mnp\u001b[0m\u001b[0;34m.\u001b[0m\u001b[0mbool_\u001b[0m \u001b[0;32mand\u001b[0m \u001b[0mlen\u001b[0m\u001b[0;34m(\u001b[0m\u001b[0marr\u001b[0m\u001b[0;34m)\u001b[0m \u001b[0;34m==\u001b[0m \u001b[0mlen\u001b[0m\u001b[0;34m(\u001b[0m\u001b[0mkey\u001b[0m\u001b[0;34m)\u001b[0m\u001b[0;34m\u001b[0m\u001b[0;34m\u001b[0m\u001b[0m\n\u001b[1;32m    138\u001b[0m         \u001b[0;32mexcept\u001b[0m \u001b[0mTypeError\u001b[0m\u001b[0;34m:\u001b[0m  \u001b[0;31m# pragma: no cover\u001b[0m\u001b[0;34m\u001b[0m\u001b[0;34m\u001b[0m\u001b[0m\n",
      "\u001b[0;32m/anaconda3/lib/python3.7/site-packages/numpy/core/numeric.py\u001b[0m in \u001b[0;36masarray\u001b[0;34m(a, dtype, order)\u001b[0m\n\u001b[1;32m    536\u001b[0m \u001b[0;34m\u001b[0m\u001b[0m\n\u001b[1;32m    537\u001b[0m     \"\"\"\n\u001b[0;32m--> 538\u001b[0;31m     \u001b[0;32mreturn\u001b[0m \u001b[0marray\u001b[0m\u001b[0;34m(\u001b[0m\u001b[0ma\u001b[0m\u001b[0;34m,\u001b[0m \u001b[0mdtype\u001b[0m\u001b[0;34m,\u001b[0m \u001b[0mcopy\u001b[0m\u001b[0;34m=\u001b[0m\u001b[0;32mFalse\u001b[0m\u001b[0;34m,\u001b[0m \u001b[0morder\u001b[0m\u001b[0;34m=\u001b[0m\u001b[0morder\u001b[0m\u001b[0;34m)\u001b[0m\u001b[0;34m\u001b[0m\u001b[0;34m\u001b[0m\u001b[0m\n\u001b[0m\u001b[1;32m    539\u001b[0m \u001b[0;34m\u001b[0m\u001b[0m\n\u001b[1;32m    540\u001b[0m \u001b[0;34m\u001b[0m\u001b[0m\n",
      "\u001b[0;31mValueError\u001b[0m: cannot copy sequence with size 120 to array axis with dimension 22"
     ]
    }
   ],
   "source": [
    "import statsmodels.api as sm\n",
    "X = green[['trip_distance','passenger_count','fare_amount']]\n",
    "Y=green[\"total_amount\"]\n",
    "model = sm.OLS(Y, X).fit() \n",
    "green['predicted Total Amount'] = round(model.predict(X),1)\n",
    "print_model = model.summary()\n",
    "print(print_model)"
   ]
  },
  {
   "cell_type": "code",
   "execution_count": 80,
   "metadata": {},
   "outputs": [
    {
     "data": {
      "text/html": [
       "<div>\n",
       "<style scoped>\n",
       "    .dataframe tbody tr th:only-of-type {\n",
       "        vertical-align: middle;\n",
       "    }\n",
       "\n",
       "    .dataframe tbody tr th {\n",
       "        vertical-align: top;\n",
       "    }\n",
       "\n",
       "    .dataframe thead th {\n",
       "        text-align: right;\n",
       "    }\n",
       "</style>\n",
       "<table border=\"1\" class=\"dataframe\">\n",
       "  <thead>\n",
       "    <tr style=\"text-align: right;\">\n",
       "      <th></th>\n",
       "      <th>VendorID</th>\n",
       "      <th>lpep_pickup_datetime</th>\n",
       "      <th>lpep_dropoff_datetime</th>\n",
       "      <th>store_and_fwd_flag</th>\n",
       "      <th>RatecodeID</th>\n",
       "      <th>PULocationID</th>\n",
       "      <th>DOLocationID</th>\n",
       "      <th>passenger_count</th>\n",
       "      <th>trip_distance</th>\n",
       "      <th>fare_amount</th>\n",
       "      <th>...</th>\n",
       "      <th>tolls_amount</th>\n",
       "      <th>ehail_fee</th>\n",
       "      <th>improvement_surcharge</th>\n",
       "      <th>total_amount</th>\n",
       "      <th>payment_type</th>\n",
       "      <th>trip_type</th>\n",
       "      <th>congestion_surcharge</th>\n",
       "      <th>TaxiType</th>\n",
       "      <th>predicted Fare Amount</th>\n",
       "      <th>predicted Total Amount</th>\n",
       "    </tr>\n",
       "  </thead>\n",
       "  <tbody>\n",
       "    <tr>\n",
       "      <th>0</th>\n",
       "      <td>2</td>\n",
       "      <td>2018-12-21 15:17:29</td>\n",
       "      <td>2018-12-21 15:18:57</td>\n",
       "      <td>N</td>\n",
       "      <td>1</td>\n",
       "      <td>264</td>\n",
       "      <td>264</td>\n",
       "      <td>5</td>\n",
       "      <td>0.00</td>\n",
       "      <td>3.0</td>\n",
       "      <td>...</td>\n",
       "      <td>0.0</td>\n",
       "      <td>NaN</td>\n",
       "      <td>0.3</td>\n",
       "      <td>4.30</td>\n",
       "      <td>2</td>\n",
       "      <td>1</td>\n",
       "      <td>NaN</td>\n",
       "      <td>0</td>\n",
       "      <td>6.048212</td>\n",
       "      <td>5.2</td>\n",
       "    </tr>\n",
       "    <tr>\n",
       "      <th>1</th>\n",
       "      <td>2</td>\n",
       "      <td>2019-01-01 00:10:16</td>\n",
       "      <td>2019-01-01 00:16:32</td>\n",
       "      <td>N</td>\n",
       "      <td>1</td>\n",
       "      <td>97</td>\n",
       "      <td>49</td>\n",
       "      <td>2</td>\n",
       "      <td>0.86</td>\n",
       "      <td>6.0</td>\n",
       "      <td>...</td>\n",
       "      <td>0.0</td>\n",
       "      <td>NaN</td>\n",
       "      <td>0.3</td>\n",
       "      <td>7.30</td>\n",
       "      <td>2</td>\n",
       "      <td>1</td>\n",
       "      <td>NaN</td>\n",
       "      <td>0</td>\n",
       "      <td>8.053971</td>\n",
       "      <td>7.8</td>\n",
       "    </tr>\n",
       "    <tr>\n",
       "      <th>2</th>\n",
       "      <td>2</td>\n",
       "      <td>2019-01-01 00:27:11</td>\n",
       "      <td>2019-01-01 00:31:38</td>\n",
       "      <td>N</td>\n",
       "      <td>1</td>\n",
       "      <td>49</td>\n",
       "      <td>189</td>\n",
       "      <td>2</td>\n",
       "      <td>0.66</td>\n",
       "      <td>4.5</td>\n",
       "      <td>...</td>\n",
       "      <td>0.0</td>\n",
       "      <td>NaN</td>\n",
       "      <td>0.3</td>\n",
       "      <td>5.80</td>\n",
       "      <td>1</td>\n",
       "      <td>1</td>\n",
       "      <td>NaN</td>\n",
       "      <td>0</td>\n",
       "      <td>7.452804</td>\n",
       "      <td>6.0</td>\n",
       "    </tr>\n",
       "    <tr>\n",
       "      <th>3</th>\n",
       "      <td>2</td>\n",
       "      <td>2019-01-01 00:46:20</td>\n",
       "      <td>2019-01-01 01:04:54</td>\n",
       "      <td>N</td>\n",
       "      <td>1</td>\n",
       "      <td>189</td>\n",
       "      <td>17</td>\n",
       "      <td>2</td>\n",
       "      <td>2.68</td>\n",
       "      <td>13.5</td>\n",
       "      <td>...</td>\n",
       "      <td>0.0</td>\n",
       "      <td>NaN</td>\n",
       "      <td>0.3</td>\n",
       "      <td>19.71</td>\n",
       "      <td>1</td>\n",
       "      <td>1</td>\n",
       "      <td>NaN</td>\n",
       "      <td>0</td>\n",
       "      <td>13.524589</td>\n",
       "      <td>16.8</td>\n",
       "    </tr>\n",
       "    <tr>\n",
       "      <th>4</th>\n",
       "      <td>2</td>\n",
       "      <td>2019-01-01 00:19:06</td>\n",
       "      <td>2019-01-01 00:39:43</td>\n",
       "      <td>N</td>\n",
       "      <td>1</td>\n",
       "      <td>82</td>\n",
       "      <td>258</td>\n",
       "      <td>1</td>\n",
       "      <td>4.53</td>\n",
       "      <td>18.0</td>\n",
       "      <td>...</td>\n",
       "      <td>0.0</td>\n",
       "      <td>NaN</td>\n",
       "      <td>0.3</td>\n",
       "      <td>19.30</td>\n",
       "      <td>2</td>\n",
       "      <td>1</td>\n",
       "      <td>NaN</td>\n",
       "      <td>0</td>\n",
       "      <td>18.892297</td>\n",
       "      <td>21.7</td>\n",
       "    </tr>\n",
       "  </tbody>\n",
       "</table>\n",
       "<p>5 rows × 23 columns</p>\n",
       "</div>"
      ],
      "text/plain": [
       "   VendorID lpep_pickup_datetime lpep_dropoff_datetime store_and_fwd_flag  \\\n",
       "0         2  2018-12-21 15:17:29   2018-12-21 15:18:57                  N   \n",
       "1         2  2019-01-01 00:10:16   2019-01-01 00:16:32                  N   \n",
       "2         2  2019-01-01 00:27:11   2019-01-01 00:31:38                  N   \n",
       "3         2  2019-01-01 00:46:20   2019-01-01 01:04:54                  N   \n",
       "4         2  2019-01-01 00:19:06   2019-01-01 00:39:43                  N   \n",
       "\n",
       "   RatecodeID  PULocationID  DOLocationID  passenger_count  trip_distance  \\\n",
       "0           1           264           264                5           0.00   \n",
       "1           1            97            49                2           0.86   \n",
       "2           1            49           189                2           0.66   \n",
       "3           1           189            17                2           2.68   \n",
       "4           1            82           258                1           4.53   \n",
       "\n",
       "   fare_amount  ...  tolls_amount  ehail_fee  improvement_surcharge  \\\n",
       "0          3.0  ...           0.0        NaN                    0.3   \n",
       "1          6.0  ...           0.0        NaN                    0.3   \n",
       "2          4.5  ...           0.0        NaN                    0.3   \n",
       "3         13.5  ...           0.0        NaN                    0.3   \n",
       "4         18.0  ...           0.0        NaN                    0.3   \n",
       "\n",
       "   total_amount  payment_type  trip_type  congestion_surcharge  TaxiType  \\\n",
       "0          4.30             2          1                   NaN         0   \n",
       "1          7.30             2          1                   NaN         0   \n",
       "2          5.80             1          1                   NaN         0   \n",
       "3         19.71             1          1                   NaN         0   \n",
       "4         19.30             2          1                   NaN         0   \n",
       "\n",
       "   predicted Fare Amount  predicted Total Amount  \n",
       "0               6.048212                     5.2  \n",
       "1               8.053971                     7.8  \n",
       "2               7.452804                     6.0  \n",
       "3              13.524589                    16.8  \n",
       "4              18.892297                    21.7  \n",
       "\n",
       "[5 rows x 23 columns]"
      ]
     },
     "execution_count": 80,
     "metadata": {},
     "output_type": "execute_result"
    }
   ],
   "source": [
    "green.head()"
   ]
  },
  {
   "cell_type": "code",
   "execution_count": 81,
   "metadata": {},
   "outputs": [
    {
     "data": {
      "image/png": "[encoded data removed]",
      "text/plain": [
       "<Figure size 1080x576 with 3 Axes>"
      ]
     },
     "metadata": {},
     "output_type": "display_data"
    }
   ],
   "source": [
    "import matplotlib.pyplot as plt\n",
    "import seaborn as sns\n",
    "%matplotlib inline\n",
    "sns.set_style(\"darkgrid\")\n",
    "fig = plt.figure(figsize=(15,8))\n",
    "fig = sm.graphics.plot_partregress_grid(model, fig=fig)"
   ]
  },
  {
   "cell_type": "code",
   "execution_count": 86,
   "metadata": {},
   "outputs": [
    {
     "ename": "TypeError",
     "evalue": "__init__() missing 1 required positional argument: 'endog'",
     "output_type": "error",
     "traceback": [
      "\u001b[0;31m---------------------------------------------------------------------------\u001b[0m",
      "\u001b[0;31mTypeError\u001b[0m                                 Traceback (most recent call last)",
      "\u001b[0;32m<ipython-input-86-335a74b0ee5a>\u001b[0m in \u001b[0;36m<module>\u001b[0;34m\u001b[0m\n\u001b[0;32m----> 1\u001b[0;31m \u001b[0mresult\u001b[0m \u001b[0;34m=\u001b[0m \u001b[0msm\u001b[0m\u001b[0;34m.\u001b[0m\u001b[0mOLS\u001b[0m\u001b[0;34m(\u001b[0m\u001b[0mformula\u001b[0m\u001b[0;34m=\u001b[0m\u001b[0;34m\"total_amount ~. \"\u001b[0m\u001b[0;34m,\u001b[0m \u001b[0mdata\u001b[0m\u001b[0;34m=\u001b[0m\u001b[0mgreen\u001b[0m\u001b[0;34m)\u001b[0m\u001b[0;34m.\u001b[0m\u001b[0mfit\u001b[0m\u001b[0;34m(\u001b[0m\u001b[0;34m)\u001b[0m\u001b[0;34m\u001b[0m\u001b[0;34m\u001b[0m\u001b[0m\n\u001b[0m",
      "\u001b[0;31mTypeError\u001b[0m: __init__() missing 1 required positional argument: 'endog'"
     ]
    }
   ],
   "source": []
  },
  {
   "cell_type": "code",
   "execution_count": null,
   "metadata": {},
   "outputs": [],
   "source": []
  }
 ],
 "metadata": {
  "kernelspec": {
   "display_name": "Python 3",
   "language": "python",
   "name": "python3"
  },
  "language_info": {
   "codemirror_mode": {
    "name": "ipython",
    "version": 3
   },
   "file_extension": ".py",
   "mimetype": "text/x-python",
   "name": "python",
   "nbconvert_exporter": "python",
   "pygments_lexer": "ipython3",
   "version": "3.7.2"
  }
 },
 "nbformat": 4,
 "nbformat_minor": 2
}
